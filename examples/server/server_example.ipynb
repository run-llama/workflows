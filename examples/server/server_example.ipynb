{
  "nbformat": 4,
  "nbformat_minor": 0,
  "metadata": {
    "colab": {
      "provenance": []
    },
    "kernelspec": {
      "name": "python3",
      "display_name": "Python 3"
    },
    "language_info": {
      "name": "python"
    }
  },
  "cells": [
    {
      "cell_type": "markdown",
      "source": [
        "Example demonstrating how to use the WorkflowServer with event streaming.\n",
        "\n",
        "This example shows how to:\n",
        "1. Create workflows that emit streaming events\n",
        "2. Set up the server with event streaming support\n",
        "3. Register workflows\n",
        "4. Run the server\n",
        "5. Make HTTP requests to execute workflows\n",
        "6. Stream real-time events from running workflows using the /events endpoint"
      ],
      "metadata": {
        "id": "H_jVQJE-_mCO"
      }
    },
    {
      "cell_type": "code",
      "execution_count": 1,
      "metadata": {
        "collapsed": true,
        "id": "jnPCUjPk_Kfq"
      },
      "outputs": [],
      "source": [
        "%pip install llama-index-workflows[server]"
      ]
    },
    {
      "cell_type": "markdown",
      "source": [
        "## Define a workflow and setup the server"
      ],
      "metadata": {
        "id": "wXurfbFgds6s"
      }
    },
    {
      "cell_type": "code",
      "source": [
        "%%writefile server.py\n",
        "import asyncio\n",
        "\n",
        "from workflows import Workflow, step\n",
        "from workflows.context import Context\n",
        "from workflows.events import Event, StartEvent, StopEvent\n",
        "from workflows.server import WorkflowServer\n",
        "\n",
        "\n",
        "class StreamEvent(Event):\n",
        "    sequence: int\n",
        "\n",
        "\n",
        "# Define a simple workflow\n",
        "class GreetingWorkflow(Workflow):\n",
        "    @step\n",
        "    async def greet(self, ctx: Context, ev: StartEvent) -> StopEvent:\n",
        "        for i in range(3):\n",
        "            ctx.write_event_to_stream(StreamEvent(sequence=i))\n",
        "            await asyncio.sleep(0.3)\n",
        "\n",
        "        name = getattr(ev, \"name\", \"World\")\n",
        "        return StopEvent(result=f\"Hello, {name}!\")\n",
        "\n",
        "\n",
        "class ProgressEvent(Event):\n",
        "    step: str\n",
        "    progress: int\n",
        "    message: str\n",
        "\n",
        "\n",
        "class MathWorkflow(Workflow):\n",
        "    @step\n",
        "    async def calculate(self, ev: StartEvent) -> StopEvent:\n",
        "        a = getattr(ev, \"a\", 0)\n",
        "        b = getattr(ev, \"b\", 0)\n",
        "        operation = getattr(ev, \"operation\", \"add\")\n",
        "\n",
        "        if operation == \"add\":\n",
        "            result = a + b\n",
        "        elif operation == \"multiply\":\n",
        "            result = a * b\n",
        "        elif operation == \"subtract\":\n",
        "            result = a - b\n",
        "        elif operation == \"divide\":\n",
        "            result = a / b if b != 0 else None\n",
        "        else:\n",
        "            result = None\n",
        "\n",
        "        return StopEvent(\n",
        "            result={\"a\": a, \"b\": b, \"operation\": operation, \"result\": result}\n",
        "        )\n",
        "\n",
        "\n",
        "class ProcessingWorkflow(Workflow):\n",
        "    \"\"\"Example workflow that demonstrates event streaming with progress updates.\"\"\"\n",
        "\n",
        "    @step\n",
        "    async def process(self, ctx: Context, ev: StartEvent) -> StopEvent:\n",
        "        items = getattr(ev, \"items\", [\"item1\", \"item2\", \"item3\", \"item4\", \"item5\"])\n",
        "\n",
        "        ctx.write_event_to_stream(\n",
        "            ProgressEvent(\n",
        "                step=\"start\",\n",
        "                progress=0,\n",
        "                message=f\"Starting processing of {len(items)} items\",\n",
        "            )\n",
        "        )\n",
        "\n",
        "        results = []\n",
        "        for i, item in enumerate(items):\n",
        "            # Simulate processing time\n",
        "            await asyncio.sleep(0.5)\n",
        "\n",
        "            # Emit progress event\n",
        "            progress = int((i + 1) / len(items) * 100)\n",
        "            ctx.write_event_to_stream(\n",
        "                ProgressEvent(\n",
        "                    step=\"processing\",\n",
        "                    progress=progress,\n",
        "                    message=f\"Processed {item} ({i + 1}/{len(items)})\",\n",
        "                )\n",
        "            )\n",
        "\n",
        "            results.append(f\"processed_{item}\")\n",
        "\n",
        "        ctx.write_event_to_stream(\n",
        "            ProgressEvent(\n",
        "                step=\"complete\",\n",
        "                progress=100,\n",
        "                message=\"Processing completed successfully\",\n",
        "            )\n",
        "        )\n",
        "\n",
        "        return StopEvent(result={\"processed_items\": results, \"total\": len(results)})\n",
        "\n",
        "\n",
        "async def main():\n",
        "  server = WorkflowServer()\n",
        "\n",
        "  # Register workflows\n",
        "  server.add_workflow(\"greeting\", GreetingWorkflow())\n",
        "  server.add_workflow(\"math\", MathWorkflow())\n",
        "  server.add_workflow(\"processing\", ProcessingWorkflow())\n",
        "\n",
        "  await server.serve(host=\"0.0.0.0\", port=8000)\n",
        "\n",
        "\n",
        "if __name__ == \"__main__\":\n",
        "    asyncio.run(main())"
      ],
      "metadata": {
        "colab": {
          "base_uri": "https://localhost:8080/"
        },
        "id": "o3oXhBK3_iv8",
        "outputId": "c24aa1d6-22c0-44e2-c3ac-2604b8fab9e6"
      },
      "execution_count": 2,
      "outputs": [
        {
          "output_type": "stream",
          "name": "stdout",
          "text": [
            "Writing server.py\n"
          ]
        }
      ]
    },
    {
      "cell_type": "markdown",
      "source": [
        "## Run the server in background"
      ],
      "metadata": {
        "id": "V5j--gYldhud"
      }
    },
    {
      "cell_type": "code",
      "source": [
        "!nohup python server.py &"
      ],
      "metadata": {
        "colab": {
          "base_uri": "https://localhost:8080/"
        },
        "id": "L5AsbMnk_xuG",
        "outputId": "0cb5ec84-575e-4484-90ab-94ff73e241d8"
      },
      "execution_count": 3,
      "outputs": [
        {
          "output_type": "stream",
          "name": "stdout",
          "text": [
            "nohup: appending output to 'nohup.out'\n"
          ]
        }
      ]
    },
    {
      "cell_type": "markdown",
      "source": [
        "## Interact with the server"
      ],
      "metadata": {
        "id": "bPbCXF_udl4K"
      }
    },
    {
      "cell_type": "code",
      "source": [
        "# Hit the health endpoint to see the server is up and running\n",
        "!curl http://localhost:8000/health"
      ],
      "metadata": {
        "colab": {
          "base_uri": "https://localhost:8080/"
        },
        "id": "Fm1Z0YGmgmRH",
        "outputId": "f4c87973-1034-4fe3-c5f4-82d8c0d78db2"
      },
      "execution_count": 4,
      "outputs": [
        {
          "output_type": "stream",
          "name": "stdout",
          "text": [
            "{\"status\":\"healthy\"}"
          ]
        }
      ]
    },
    {
      "cell_type": "code",
      "source": [
        "# List available workflows\n",
        "!curl http://localhost:8000/workflows"
      ],
      "metadata": {
        "colab": {
          "base_uri": "https://localhost:8080/"
        },
        "id": "TD6tz50jeAkf",
        "outputId": "2a622940-7e0b-445a-9292-e89420026ef6"
      },
      "execution_count": 5,
      "outputs": [
        {
          "output_type": "stream",
          "name": "stdout",
          "text": [
            "{\"workflows\":[\"greeting\",\"math\",\"processing\"]}"
          ]
        }
      ]
    },
    {
      "cell_type": "code",
      "source": [
        "# Run greeting workflow\n",
        "!curl -X POST http://localhost:8000/workflows/greeting/run \\\n",
        "  -H \"Content-Type: application/json\" \\\n",
        "  -d '{\"kwargs\": {\"name\": \"Alice\"}}'"
      ],
      "metadata": {
        "colab": {
          "base_uri": "https://localhost:8080/"
        },
        "id": "wJD4rifveJMt",
        "outputId": "ab382fc4-8e94-4779-826f-0db4c4986f69"
      },
      "execution_count": 6,
      "outputs": [
        {
          "output_type": "stream",
          "name": "stdout",
          "text": [
            "{\"result\":\"Hello, Alice!\"}"
          ]
        }
      ]
    },
    {
      "cell_type": "code",
      "source": [
        "# Run math workflow\n",
        "!curl -X POST http://localhost:8000/workflows/math/run \\\n",
        "  -H \"Content-Type: application/json\" \\\n",
        "  -d '{\"kwargs\": {\"a\": 10, \"b\": 5, \"operation\": \"multiply\"}}'"
      ],
      "metadata": {
        "colab": {
          "base_uri": "https://localhost:8080/"
        },
        "id": "UkO28ZgxeOyT",
        "outputId": "b0543b29-e102-4ba9-a44c-4115c89c0e44"
      },
      "execution_count": 7,
      "outputs": [
        {
          "output_type": "stream",
          "name": "stdout",
          "text": [
            "{\"result\":{\"a\":10,\"b\":5,\"operation\":\"multiply\",\"result\":50}}"
          ]
        }
      ]
    },
    {
      "cell_type": "code",
      "source": [
        "%%bash\n",
        "# Run workflow with nowait\n",
        "handler_id=$(curl -sX POST http://localhost:8000/workflows/math/run-nowait \\\n",
        "  -H \"Content-Type: application/json\" \\\n",
        "  -d '{\"kwargs\": {\"a\": 100, \"b\": 25, \"operation\": \"divide\"}}' | jq -r \".handler_id\" )\n",
        "printf \"Got handler id: ${handler_id}\\n\\n\"\n",
        "\n",
        "# Wait for the workflow to run in background\n",
        "sleep 1\n",
        "\n",
        "# Fetch the result asynchronously\n",
        "curl -s http://localhost:8000/results/${handler_id}"
      ],
      "metadata": {
        "colab": {
          "base_uri": "https://localhost:8080/"
        },
        "id": "-PQ6vt56eTwp",
        "outputId": "7c7f0007-ecd5-4c68-8275-0cbecc15c4d8"
      },
      "execution_count": 36,
      "outputs": [
        {
          "output_type": "stream",
          "name": "stdout",
          "text": [
            "Got handler id: vuyyRzWikr\n",
            "{\"result\":{\"a\":100,\"b\":25,\"operation\":\"divide\",\"result\":4.0}}"
          ]
        }
      ]
    },
    {
      "cell_type": "code",
      "source": [
        "%%bash\n",
        "# Stream events from workflow\n",
        "\n",
        "# 1. Run workflow with nowait\n",
        "handler_id=$(curl -sX POST http://localhost:8000/workflows/greeting/run-nowait \\\n",
        "  -H \"Content-Type: application/json\" \\\n",
        "  -d '{\"kwargs\": {\"name\": \"Async User\"}}' | jq -r \".handler_id\" )\n",
        "printf \"Got handler id: ${handler_id}\\n\\n\"\n",
        "\n",
        "# Wait for the workflow to run in background\n",
        "sleep 1\n",
        "\n",
        "printf \"Streaming events...\\n\"\n",
        "# 2. Stream events using Server-Sent Events using SSE format\n",
        "curl -s http://localhost:8000/events/$handler_id?sse=true\n",
        "\n",
        "\n",
        "printf \"\\nFinal result:\\n\"\n",
        "# 3. Get the final result after events complete\n",
        "curl -s http://localhost:8000/results/$handler_id"
      ],
      "metadata": {
        "colab": {
          "base_uri": "https://localhost:8080/"
        },
        "id": "iR4-fBOujIXd",
        "outputId": "b35d418f-bbd6-47b9-b0de-deac1ac26bd1"
      },
      "execution_count": 40,
      "outputs": [
        {
          "output_type": "stream",
          "name": "stdout",
          "text": [
            "Got handler id: nPBSVhI8DO\n",
            "\n",
            "Streaming events...\n",
            "event: __main__.StreamEvent\n",
            "data: {\"sequence\": 0}\n",
            "event: __main__.StreamEvent\n",
            "data: {\"sequence\": 1}\n",
            "event: __main__.StreamEvent\n",
            "data: {\"sequence\": 2}\n",
            "event: workflows.events.StopEvent\n",
            "data: {}\n",
            "\n",
            "Final result:\n",
            "{\"result\":\"Hello, Async User!\"}"
          ]
        }
      ]
    }
  ]
}

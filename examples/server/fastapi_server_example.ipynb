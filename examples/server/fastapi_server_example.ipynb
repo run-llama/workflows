{
  "cells": [
    {
      "cell_type": "markdown",
      "metadata": {},
      "source": [
        "# FastAPI Example"
      ]
    },
    {
      "cell_type": "markdown",
      "metadata": {
        "id": "H_jVQJE-_mCO"
      },
      "source": [
        "Example demonstrating how to integrate WorkflowServer into an existing FastAPI application.\n",
        "\n",
        "This example shows how to:\n",
        "1. Create a FastAPI application with existing routes\n",
        "2. Set up WorkflowServer with workflows\n",
        "3. Mount the workflow server as a sub-application\n",
        "4. Run the combined application"
      ]
    },
    {
      "cell_type": "code",
      "execution_count": null,
      "metadata": {
        "collapsed": true,
        "id": "jnPCUjPk_Kfq"
      },
      "outputs": [],
      "source": [
        "%pip install llama-index-workflows[server] fastapi"
      ]
    },
    {
      "cell_type": "markdown",
      "metadata": {
        "id": "wXurfbFgds6s"
      },
      "source": [
        "## Define a workflow and setup the server"
      ]
    },
    {
      "cell_type": "code",
      "execution_count": 1,
      "metadata": {
        "colab": {
          "base_uri": "https://localhost:8080/"
        },
        "id": "o3oXhBK3_iv8",
        "outputId": "0982fbd6-8961-4bb9-a82f-74ba54fb5b27"
      },
      "outputs": [
        {
          "name": "stdout",
          "output_type": "stream",
          "text": [
            "Overwriting server.py\n"
          ]
        }
      ],
      "source": [
        "%%writefile server.py\n",
        "import uvicorn\n",
        "from fastapi import FastAPI\n",
        "from pydantic import BaseModel\n",
        "\n",
        "from workflows import Workflow, step\n",
        "from workflows.events import StartEvent, StopEvent\n",
        "from workflows.server import WorkflowServer\n",
        "\n",
        "\n",
        "class UserModel(BaseModel):\n",
        "    name: str\n",
        "    email: str\n",
        "\n",
        "# Existing FastAPI application with some routes\n",
        "app = FastAPI(title=\"My API with Workflows\", version=\"1.0.0\")\n",
        "\n",
        "\n",
        "# Existing API routes\n",
        "@app.get(\"/\")\n",
        "async def root() -> dict:\n",
        "    return {\"message\": \"Welcome to My API\"}\n",
        "\n",
        "\n",
        "@app.get(\"/users/{user_id}\")\n",
        "async def get_user(user_id: int) -> dict:\n",
        "    return {\n",
        "        \"user_id\": user_id,\n",
        "        \"name\": f\"User {user_id}\",\n",
        "        \"email\": f\"user{user_id}@example.com\",\n",
        "    }\n",
        "\n",
        "\n",
        "@app.post(\"/users\")\n",
        "async def create_user(user: UserModel) -> dict:\n",
        "    return {\"message\": f\"Created user {user.name}\", \"user\": user}\n",
        "\n",
        "\n",
        "# Define workflows\n",
        "class UserProcessingWorkflow(Workflow):\n",
        "    @step\n",
        "    async def process_user(self, ev: StartEvent) -> StopEvent:\n",
        "        user_data = getattr(ev, \"user_data\", {})\n",
        "        name = user_data.get(\"name\", \"Unknown\")\n",
        "        email = user_data.get(\"email\", \"unknown@example.com\")\n",
        "\n",
        "        # Simulate some processing\n",
        "        processed_data = {\n",
        "            \"processed_name\": name.upper(),\n",
        "            \"domain\": email.split(\"@\")[1] if \"@\" in email else \"unknown\",\n",
        "            \"status\": \"processed\",\n",
        "        }\n",
        "\n",
        "        return StopEvent(result=processed_data)\n",
        "\n",
        "\n",
        "class NotificationWorkflow(Workflow):\n",
        "    @step\n",
        "    async def send_notification(self, ev: StartEvent) -> StopEvent:\n",
        "        message = getattr(ev, \"message\", \"Default notification\")\n",
        "        recipient = getattr(ev, \"recipient\", \"admin@example.com\")\n",
        "\n",
        "        # Simulate sending notification\n",
        "        result = {\n",
        "            \"notification_id\": \"notif_123\",\n",
        "            \"message\": message,\n",
        "            \"recipient\": recipient,\n",
        "            \"sent_at\": \"2024-01-01T12:00:00Z\",\n",
        "            \"status\": \"sent\",\n",
        "        }\n",
        "\n",
        "        return StopEvent(result=result)\n",
        "\n",
        "\n",
        "\n",
        "def main() -> None:\n",
        "    # Create workflow server\n",
        "    workflow_server = WorkflowServer()\n",
        "\n",
        "    # Register workflows\n",
        "    workflow_server.add_workflow(\"user_processing\", UserProcessingWorkflow())\n",
        "    workflow_server.add_workflow(\"notification\", NotificationWorkflow())\n",
        "\n",
        "    # Mount workflow server as sub-application\n",
        "    app.mount(\"/wf-server\", workflow_server.app)\n",
        "\n",
        "    # run the FastAPI server\n",
        "    uvicorn.run(app, host=\"0.0.0.0\", port=8000, log_level=\"info\")\n",
        "\n",
        "\n",
        "if __name__ == \"__main__\":\n",
        "    main()\n"
      ]
    },
    {
      "cell_type": "markdown",
      "metadata": {
        "id": "V5j--gYldhud"
      },
      "source": [
        "## Run the server in background"
      ]
    },
    {
      "cell_type": "code",
      "execution_count": 2,
      "metadata": {
        "colab": {
          "base_uri": "https://localhost:8080/"
        },
        "id": "L5AsbMnk_xuG",
        "outputId": "35ba5e76-3e81-43c2-d2cb-504378ed9d41"
      },
      "outputs": [
        {
          "name": "stdout",
          "output_type": "stream",
          "text": [
            "nohup: appending output to 'nohup.out'\n"
          ]
        }
      ],
      "source": [
        "!nohup python server.py &"
      ]
    },
    {
      "cell_type": "markdown",
      "metadata": {
        "id": "bPbCXF_udl4K"
      },
      "source": [
        "## Interact with the server"
      ]
    },
    {
      "cell_type": "code",
      "execution_count": 6,
      "metadata": {
        "colab": {
          "base_uri": "https://localhost:8080/"
        },
        "id": "H_NVM5ovmyk_",
        "outputId": "17738424-95fd-4869-8b0c-19419160ad59"
      },
      "outputs": [
        {
          "name": "stdout",
          "output_type": "stream",
          "text": [
            "{\"user_id\":123,\"name\":\"User 123\",\"email\":\"user123@example.com\"}"
          ]
        }
      ],
      "source": [
        "# Confirm existing routes are there\n",
        "!curl -s http://localhost:8000/users/123"
      ]
    },
    {
      "cell_type": "code",
      "execution_count": 3,
      "metadata": {
        "colab": {
          "base_uri": "https://localhost:8080/"
        },
        "id": "Fm1Z0YGmgmRH",
        "outputId": "7150949c-769a-4f6d-d5a8-c2cbb74c599e"
      },
      "outputs": [
        {
          "name": "stdout",
          "output_type": "stream",
          "text": [
            "{\"status\":\"healthy\"}"
          ]
        }
      ],
      "source": [
        "# Hit the health endpoint to see the workflow server is available at the path /wf-server\n",
        "!curl http://localhost:8000/wf-server/health"
      ]
    },
    {
      "cell_type": "code",
      "execution_count": 5,
      "metadata": {
        "colab": {
          "base_uri": "https://localhost:8080/"
        },
        "id": "TD6tz50jeAkf",
        "outputId": "8c2bac46-dc74-4dbd-fe80-2fb4eaac47e5"
      },
      "outputs": [
        {
          "name": "stdout",
          "output_type": "stream",
          "text": [
            "{\"workflows\":[\"user_processing\",\"notification\"]}"
          ]
        }
      ],
      "source": [
        "# List available workflows\n",
        "!curl http://localhost:8000/wf-server/workflows"
      ]
    },
    {
      "cell_type": "code",
      "execution_count": 7,
      "metadata": {
        "colab": {
          "base_uri": "https://localhost:8080/"
        },
        "id": "wJD4rifveJMt",
        "outputId": "c2b124f9-234d-4e10-b257-164e6199c282"
      },
      "outputs": [
        {
          "name": "stdout",
          "output_type": "stream",
          "text": [
            "{\"result\":{\"processed_name\":\"ALICE\",\"domain\":\"company.com\",\"status\":\"processed\"}}"
          ]
        }
      ],
      "source": [
        "# Run user processing workflow\n",
        "!curl -X POST http://localhost:8000/wf-server/workflows/user_processing/run \\\n",
        "  -H \"Content-Type: application/json\" \\\n",
        "  -d '{\"kwargs\": {\"user_data\": {\"name\": \"alice\", \"email\": \"alice@company.com\"}}}'"
      ]
    }
  ],
  "metadata": {
    "colab": {
      "provenance": []
    },
    "kernelspec": {
      "display_name": "Python 3",
      "name": "python3"
    },
    "language_info": {
      "name": "python"
    }
  },
  "nbformat": 4,
  "nbformat_minor": 0
}
